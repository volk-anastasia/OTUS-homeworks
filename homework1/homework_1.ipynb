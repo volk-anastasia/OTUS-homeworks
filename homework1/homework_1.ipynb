{
 "cells": [
  {
   "cell_type": "markdown",
   "metadata": {},
   "source": [
    "# <center> Homework 1 </center>"
   ]
  },
  {
   "cell_type": "markdown",
   "metadata": {},
   "source": [
    "# 0. Где мы сейчас?\n",
    "<img src=\"https://upload.wikimedia.org/wikipedia/commons/thumb/3/38/Jupyter_logo.svg/1200px-Jupyter_logo.svg.png\" width=\"150\">\n",
    "\n",
    "[Jupyter Notebook](https://jupyter.org/) - интерактивная среда для запуска программного кода в браузере. Удобный инструмент для анализа данных, который используется многими специалистами по data science. Позволяет выполнять отдельные ячейки с кодом, а не всю программу сразу, что очень удобно при знакомстве с данными."
   ]
  },
  {
   "cell_type": "markdown",
   "metadata": {},
   "source": [
    "# 1. Python\n",
    "> Python - это свободный интерпретируемый объектно-ориентированный расширяемый встраиваемый язык программирования очень высокого уровня \n",
    "\n",
    ">*(Г.Россум, Ф.Л.Дж.Дрейк, Д.С.Откидач \"Язык программирования Python\").*\n",
    "\n",
    "А если без цитат, то питон - это просто очень крутой язык, созданный в 1991 году [Великодушным пожизненным диктатором](https://ru.wikipedia.org/wiki/%D0%92%D0%B5%D0%BB%D0%B8%D0%BA%D0%BE%D0%B4%D1%83%D1%88%D0%BD%D1%8B%D0%B9_%D0%BF%D0%BE%D0%B6%D0%B8%D0%B7%D0%BD%D0%B5%D0%BD%D0%BD%D1%8B%D0%B9_%D0%B4%D0%B8%D0%BA%D1%82%D0%B0%D1%82%D0%BE%D1%80) Гвидо ван Россумом и названный в честь любимого им шоу [Monty Python's Flying Circus](https://en.wikipedia.org/wiki/Monty_Python%27s_Flying_Circus)\n",
    "\n",
    "<img src=\"https://advancelocal-adapter-image-uploads.s3.amazonaws.com/image.oregonlive.com/home/olive-media/width2048/img/tv/photo/2018/10/10/montycastjpg-7ef393e2355a42aa.jpg\" width=\"300\">"
   ]
  },
  {
   "cell_type": "markdown",
   "metadata": {},
   "source": [
    "# 2. Anaconda\n",
    "\n",
    "<img src=\"https://cdn-images-1.medium.com/max/1600/0*MVkCW8_Bmj-nuAnI.png\" width=\"300\">\n",
    "\n",
    "[Сборка Anaconda](https://www.anaconda.com/products/individual) включает очень много полезных библиотек для анализа данных. \n",
    "\n",
    "Среди наиболее популярных библиотек:\n",
    " - <a href=\"http://numpy.org\">Numpy</a> - это один из основных пакетов для математических вычислений. Он содержит средства для работы с многомерными массивами и высокоуровневыми математическими функциями\n",
    " - <a href=\"https://www.scipy.org/\">SciPy</a> - научные вычисления. Методы оптимизации, интегрирования, модули обработки сигналов и изображений, статистика, линейная алгебра, сплайны, кластеризация и многое другое\n",
    " -  <a href=\"http://pandas.pydata.org/\">Pandas</a> - основная библиотека для обработки и анализа данных. Предназначена для данных разной природы - матричных, панельных данных, временных рядов. Претендует на звание самого мощного и гибкого средства для анализа данных с открытым исходным кодом\n",
    " - <a href=\"http://scikit-learn.org/stable/\">Scikit-learn</a> - реализация очень многих методов машинного обучения с отличной документацией. \n",
    " - <a href=\"http://http://matplotlib.org/\">matplotlib</a> - хорошая библиотека для визуализации данных"
   ]
  },
  {
   "cell_type": "code",
   "execution_count": null,
   "metadata": {},
   "outputs": [],
   "source": []
  },
  {
   "cell_type": "code",
   "execution_count": null,
   "metadata": {},
   "outputs": [],
   "source": []
  },
  {
   "cell_type": "markdown",
   "metadata": {},
   "source": [
    "# 3. Задачки"
   ]
  },
  {
   "cell_type": "markdown",
   "metadata": {},
   "source": [
    "## Задача 1\n",
    "$N$ хоббитов делят $K$ кусков эльфийского хлеба поровну, не делящийся нацело остаток остается в корзинке у Сэма. Напишите функцию, которая принимает на вход параметры $N$ и $K$ и возвращает два числа: $x$ - cколько кусков эльфиского хлеба достанется каждому хоббиту, и $y$ - сколько кусков остаётся в корзинке."
   ]
  },
  {
   "cell_type": "code",
   "execution_count": 33,
   "metadata": {},
   "outputs": [
    {
     "name": "stdout",
     "output_type": "stream",
     "text": [
      "Количество хоббитов: 5\n",
      "Количество кусков хлеба: 78\n",
      "(15, 3)\n"
     ]
    }
   ],
   "source": [
    "N = int(input(\"Количество хоббитов: \"))\n",
    "K = int(input(\"Количество кусков хлеба: \"))\n",
    "def share_bread(N, K):\n",
    "    x = K // N\n",
    "    y = K % N\n",
    "    return x, y\n",
    "print(share_bread(N, K))\n",
    "assert share_bread(N=3, K=14) == (4, 2)"
   ]
  },
  {
   "cell_type": "markdown",
   "metadata": {},
   "source": [
    "## Задача 2\n",
    "\n",
    "В копях Мории хоббиты нашли стену, на которой высечены разные натуральные числа. Согласно древним сказаниям, это даты сражений. Хоббиты знают, что сражения происходили только по високосным годам. Помогите хоббитам определить, является ли год с данным числом датой великого сражения. Если это так, то верните строку \"YOU SHALL PASS\", иначе верните \"YOU SHALL NOT PASS\". Напомним, что в соответствии с хоббитским календарем, год является високосным, если его номер кратен 4, но не кратен 100, а также если он кратен 400."
   ]
  },
  {
   "cell_type": "code",
   "execution_count": 32,
   "metadata": {},
   "outputs": [
    {
     "name": "stdout",
     "output_type": "stream",
     "text": [
      "Год: 258\n",
      "YOU SHALL NOT PASS\n"
     ]
    }
   ],
   "source": [
    "year = int(input('Год: '))\n",
    "def leap_year(year):\n",
    "    if year % 400 == 0:\n",
    "        tex_result = 'YOU SHALL PASS'\n",
    "    elif year % 4 == 0 and year % 100 != 0:\n",
    "        tex_result = 'YOU SHALL PASS'\n",
    "    else:\n",
    "        tex_result = 'YOU SHALL NOT PASS'\n",
    "    return tex_result\n",
    "print(leap_year(year))\n",
    "assert leap_year(5) == 'YOU SHALL NOT PASS'"
   ]
  },
  {
   "cell_type": "markdown",
   "metadata": {},
   "source": [
    "## Задача 3\n",
    "<img src=\"http://i0.kym-cdn.com/photos/images/original/001/187/255/5e9.gif\" width=300>\n",
    "Для могущественного магического ритуала Гендальфу необходимо быстро подсчитывать площадь своего амулета, который умеет менять размеры. Известно, что амулет имеет форму треугольника и Гендальф знает длину каждой из сторон. Напишите функцию, которая считает площадь амулета по трем сторонам.  \n",
    "\n",
    "Подсказка: используйте формулу Герона\n",
    "$$ S = \\sqrt{p(p-a)(p-b)(p-c)} $$\n",
    "$$ p = \\frac{a + b + c}{2}$$\n"
   ]
  },
  {
   "cell_type": "code",
   "execution_count": 14,
   "metadata": {},
   "outputs": [
    {
     "name": "stdout",
     "output_type": "stream",
     "text": [
      "a: 5\n",
      "b: 6\n",
      "c: 7\n",
      "Площадь амулета равна 14.7\n"
     ]
    }
   ],
   "source": [
    "a = float(input('a: '))\n",
    "b = float(input('b: '))\n",
    "c = float(input('c: '))\n",
    "def amulet_area(a, b, c):\n",
    "    p = (a+b+c)*0.5\n",
    "    S = round(((p*(p-a)*(p-b)*(p-c)) ** 0.5), 2)\n",
    "    return S\n",
    "print(\"Площадь амулета равна\", (amulet_area(a,b,c)))\n",
    "assert amulet_area(3, 4, 5) == 6"
   ]
  },
  {
   "cell_type": "markdown",
   "metadata": {},
   "source": [
    "## Задача 4\n",
    "\n",
    "Хоббиты собираются пешком идти до Мордора и им нужно подсчитать расстояние, которое им предстоит пройти. Хоббиты смогли вспомнить сразу несколько метрик расстояния: евклидово, манхэттена и косинусное, так что ваша задача - напистаь функцию под каждую из них. Важное условие - используйте только базовые функции numpy для решения.\n",
    "\n",
    "\n",
    "* Евклидово расстояние\n",
    "$$ d(a, b) = \\sqrt{\\sum_i (a_i - b_i)^2} $$\n",
    "* Расстояние Манхэттена\n",
    "$$ d(a, b) = \\sum_i |a_i - b_i| $$\n",
    "* Косинусное расстояние\n",
    "$$ d(a, b) = 1 - \\frac{a^\\top b}{||a||_2\\cdot||b||_2}$$"
   ]
  },
  {
   "cell_type": "code",
   "execution_count": 52,
   "metadata": {},
   "outputs": [],
   "source": [
    "import numpy as np\n",
    "\n",
    "def cal_euclidean(a, b):    \n",
    "    sqr = np.square(a - b)\n",
    "    sqr_sum = np.sum(sqr)\n",
    "    distance = round((np.sqrt(sqr_sum)), 2)\n",
    "    return distance\n",
    "\n",
    "def cal_manhattan(a, b):\n",
    "    modul = abs(a - b)\n",
    "    distance = np.sum(modul)\n",
    "    return distance\n",
    "\n",
    "def cal_cosine(a, b):\n",
    "    ch = np.dot(a, b)\n",
    "    zn = np.linalg.norm(a) * np.linalg.norm(b)\n",
    "    distance = round(1 - np.divide(ch, zn), 4)\n",
    "    return distance"
   ]
  },
  {
   "cell_type": "code",
   "execution_count": 53,
   "metadata": {},
   "outputs": [
    {
     "name": "stdout",
     "output_type": "stream",
     "text": [
      "Евклидово расстояние: 22.56\n",
      "Расстояние Манхэттена: 57\n",
      "Косинусное расстояние: 0.6154\n"
     ]
    }
   ],
   "source": [
    "a = np.random.randint(-10, 10, size=10)\n",
    "b = np.random.randint(-10, 10, size=10)\n",
    "print('Евклидово расстояние:', cal_euclidean(a, b))\n",
    "print('Расстояние Манхэттена:', cal_manhattan(a, b))\n",
    "print('Косинусное расстояние:', cal_cosine(a, b)) # почему косинусное расстояние при других вводных больше 1?"
   ]
  },
  {
   "cell_type": "markdown",
   "metadata": {},
   "source": [
    "## Задача 5\n",
    "\n",
    "Ну и напоследок, еще немного практики numpy, без которой не обходится ни один хоббит.\n"
   ]
  },
  {
   "cell_type": "markdown",
   "metadata": {},
   "source": [
    "Создайте случайный array (`np.random.rand()`) длинной 100. Преобразуйте его так, чтобы\n",
    "* Максимальный элемент(ы) был равен 1\n",
    "* Минимальный элемент(ы) был равен 0\n",
    "* Остальные элементы в интервале от 0 до 1 остаются прежними"
   ]
  },
  {
   "cell_type": "code",
   "execution_count": 9,
   "metadata": {},
   "outputs": [
    {
     "name": "stdout",
     "output_type": "stream",
     "text": [
      "1.0 0.0\n",
      "[0, 0.8354748444875961, 0.7183094546488192, 0.42513632398530476, 0.9713466686697367, 0.1521317519443668, 0.06953593708736427, 0.7071932512503506, 0.29715170032080207, 0.4015269828963587, 0.27851757462891835, 0.5119888894891313, 0.07736907488691824, 0.6093969127553873, 0.5337181942768326, 0.012448993011068166, 0.4851682336353934, 0.424252168014455, 0.6076453322172312, 0.378866969148671, 0.18031409061064863, 0.35550792502201944, 0.5959128068425188, 0.6436334404109536, 0.6741246193765185, 0.24964630787039999, 0.7975378985620913, 0.13962284188045604, 0.1499622295411509, 0.6161898312116372, 0.43309421266136106, 0.5295323113000777, 0.19045080785118296, 0.7764453178815268, 0.6400742713370163, 0.4255322591357731, 0.6911158147743176, 0.7189084466655563, 0.4645248185388423, 0.34712804691718036, 0.6459896289642366, 0.24092742904275777, 0.5599915893809891, 0.6444795637093795, 0.31605251100735265, 0.5871531143705516, 0.25809689747459175, 0.799914615135763, 0.9810026709531129, 0.8093967321966277, 0.41218713083735625, 0.39721951354922447, 0.20245857751376994, 0.15005052355424797, 0.9361972820250626, 0.9922472675993899, 0.5835701740447123, 0.6655775522567206, 0.6042249607721653, 0.5272179002421236, 0.1948955972761105, 0.40779653990395504, 0.9662726845266204, 0.7597646030670143, 0.4936397671611983, 0.5042184413843391, 0.10412897408236388, 0.1664609893960498, 0.18306550405796773, 0.647220040253722, 0.08076995315891056, 0.6615785419933061, 0.45547050774721365, 0.5379031875140573, 0.5833647277701013, 0.06344622295840707, 0.7701606965002684, 0.22452492857821926, 0.967471486870798, 0.19278843712583338, 0.4524864894571713, 0.3064749176695265, 0.2278823442322706, 0.03698504970951011, 0.6993706031269511, 0.7896094725567899, 0.35311498281328324, 0.5808657055037497, 0.948751485274807, 0.8056885016515282, 0.628938071694198, 0.6243420909955192, 0.7485895169572098, 0.9716994889437871, 0.7597108556724248, 0.1285767794555236, 0.9581759961330127, 0.03218481213481106, 0.59294010113198, 1]\n"
     ]
    }
   ],
   "source": [
    "my_array = np.random.rand(100)\n",
    "my_array = list(my_array)\n",
    "\n",
    "if 0.0 not in my_array:\n",
    "    my_array.insert(0, 0)\n",
    "    my_array.pop()\n",
    "else:\n",
    "    print(np.min(my_array))\n",
    "\n",
    "if 1.0 not in my_array:\n",
    "    my_array.pop()\n",
    "    my_array.insert(99, 1)\n",
    "else:\n",
    "    print(np.max(my_array))\n",
    "\n",
    "print(np.max(my_array), np.min(my_array))\n",
    "print(my_array)"
   ]
  },
  {
   "cell_type": "markdown",
   "metadata": {},
   "source": [
    "Создайте array размером $5 \\times 6$ с целыми числами в интервале [0,50]. Напечатайте колонку, которая содержит максимальный элемент полученной матрицы "
   ]
  },
  {
   "cell_type": "code",
   "execution_count": 16,
   "metadata": {},
   "outputs": [
    {
     "name": "stdout",
     "output_type": "stream",
     "text": [
      "[[13 42  5 47 50 17]\n",
      " [49  5 27 44 11 18]\n",
      " [39 33 14 44 45 29]\n",
      " [43 19 21  2 24 28]\n",
      " [16 36 33 39  2  6]]\n",
      "[50 11 45 24  2]\n"
     ]
    }
   ],
   "source": [
    "# Это было сложно. Может я не догадалась до кого-то простого и очевидного решения? Подскажите! Спасибо.\n",
    "\n",
    "import numpy as np\n",
    "\n",
    "my_array = np.random.randint(0,51, size=(5, 6)) #5 rows 6 columns\n",
    "maxi = np.argmax(my_array)\n",
    "maxi_index = np.unravel_index(maxi, [5, 6])\n",
    "selected_column = my_array[:, maxi_index[1]] # rows [0], columns [1]\n",
    "\n",
    "print(my_array)\n",
    "print(selected_column)"
   ]
  },
  {
   "cell_type": "markdown",
   "metadata": {},
   "source": [
    "Напишите функцию, которая принимает на вход матрицу (array) X и возвращает все её уникальные строки в виде новой матрицы."
   ]
  },
  {
   "cell_type": "code",
   "execution_count": 23,
   "metadata": {},
   "outputs": [],
   "source": [
    "def get_unique_rows(X):\n",
    "    unique_list = []\n",
    "    i = 0\n",
    "    while i < len(X):\n",
    "        row = list(X[i])\n",
    "        if row not in unique_list:\n",
    "            unique_list.append(row)\n",
    "        i += 1\n",
    "    X_unique = np.unique(unique_list, axis=0) # rows [0], columns [1]\n",
    "    return X_unique"
   ]
  },
  {
   "cell_type": "code",
   "execution_count": 24,
   "metadata": {},
   "outputs": [
    {
     "name": "stdout",
     "output_type": "stream",
     "text": [
      "[[4 4 5]\n",
      " [5 5 5]\n",
      " [4 4 5]\n",
      " [5 5 4]\n",
      " [4 4 5]\n",
      " [5 5 4]\n",
      " [4 5 5]\n",
      " [4 4 4]\n",
      " [4 4 4]\n",
      " [4 5 5]]\n"
     ]
    }
   ],
   "source": [
    "X = np.random.randint(4, 6, size=(10,3)) #10 rows 3 columns\n",
    "print(X)"
   ]
  },
  {
   "cell_type": "code",
   "execution_count": 25,
   "metadata": {},
   "outputs": [
    {
     "data": {
      "text/plain": [
       "array([[4, 4, 4],\n",
       "       [4, 4, 5],\n",
       "       [4, 5, 5],\n",
       "       [5, 5, 4],\n",
       "       [5, 5, 5]])"
      ]
     },
     "execution_count": 25,
     "metadata": {},
     "output_type": "execute_result"
    }
   ],
   "source": [
    "get_unique_rows(X)"
   ]
  },
  {
   "cell_type": "code",
   "execution_count": null,
   "metadata": {},
   "outputs": [],
   "source": []
  },
  {
   "cell_type": "code",
   "execution_count": null,
   "metadata": {},
   "outputs": [],
   "source": []
  }
 ],
 "metadata": {
  "kernelspec": {
   "display_name": "Python 3 (ipykernel)",
   "language": "python",
   "name": "python3"
  },
  "language_info": {
   "codemirror_mode": {
    "name": "ipython",
    "version": 3
   },
   "file_extension": ".py",
   "mimetype": "text/x-python",
   "name": "python",
   "nbconvert_exporter": "python",
   "pygments_lexer": "ipython3",
   "version": "3.11.4"
  },
  "varInspector": {
   "cols": {
    "lenName": 16,
    "lenType": 16,
    "lenVar": 40
   },
   "kernels_config": {
    "python": {
     "delete_cmd_postfix": "",
     "delete_cmd_prefix": "del ",
     "library": "var_list.py",
     "varRefreshCmd": "print(var_dic_list())"
    },
    "r": {
     "delete_cmd_postfix": ") ",
     "delete_cmd_prefix": "rm(",
     "library": "var_list.r",
     "varRefreshCmd": "cat(var_dic_list()) "
    }
   },
   "types_to_exclude": [
    "module",
    "function",
    "builtin_function_or_method",
    "instance",
    "_Feature"
   ],
   "window_display": false
  }
 },
 "nbformat": 4,
 "nbformat_minor": 2
}
