{
 "cells": [
  {
   "cell_type": "markdown",
   "metadata": {},
   "source": [
    "# <center> Homework 1 </center>"
   ]
  },
  {
   "cell_type": "markdown",
   "metadata": {},
   "source": [
    "# 0. Где мы сейчас?\n",
    "<img src=\"https://upload.wikimedia.org/wikipedia/commons/thumb/3/38/Jupyter_logo.svg/1200px-Jupyter_logo.svg.png\" width=\"150\">\n",
    "\n",
    "[Jupyter Notebook](https://jupyter.org/) - интерактивная среда для запуска программного кода в браузере. Удобный инструмент для анализа данных, который используется многими специалистами по data science. Позволяет выполнять отдельные ячейки с кодом, а не всю программу сразу, что очень удобно при знакомстве с данными."
   ]
  },
  {
   "cell_type": "markdown",
   "metadata": {},
   "source": [
    "# 1. Python\n",
    "> Python - это свободный интерпретируемый объектно-ориентированный расширяемый встраиваемый язык программирования очень высокого уровня \n",
    "\n",
    ">*(Г.Россум, Ф.Л.Дж.Дрейк, Д.С.Откидач \"Язык программирования Python\").*\n",
    "\n",
    "А если без цитат, то питон - это просто очень крутой язык, созданный в 1991 году [Великодушным пожизненным диктатором](https://ru.wikipedia.org/wiki/%D0%92%D0%B5%D0%BB%D0%B8%D0%BA%D0%BE%D0%B4%D1%83%D1%88%D0%BD%D1%8B%D0%B9_%D0%BF%D0%BE%D0%B6%D0%B8%D0%B7%D0%BD%D0%B5%D0%BD%D0%BD%D1%8B%D0%B9_%D0%B4%D0%B8%D0%BA%D1%82%D0%B0%D1%82%D0%BE%D1%80) Гвидо ван Россумом и названный в честь любимого им шоу [Monty Python's Flying Circus](https://en.wikipedia.org/wiki/Monty_Python%27s_Flying_Circus)\n",
    "\n",
    "<img src=\"https://advancelocal-adapter-image-uploads.s3.amazonaws.com/image.oregonlive.com/home/olive-media/width2048/img/tv/photo/2018/10/10/montycastjpg-7ef393e2355a42aa.jpg\" width=\"300\">"
   ]
  },
  {
   "cell_type": "markdown",
   "metadata": {},
   "source": [
    "# 2. Anaconda\n",
    "\n",
    "<img src=\"https://cdn-images-1.medium.com/max/1600/0*MVkCW8_Bmj-nuAnI.png\" width=\"300\">\n",
    "\n",
    "[Сборка Anaconda](https://www.anaconda.com/products/individual) включает очень много полезных библиотек для анализа данных. \n",
    "\n",
    "Среди наиболее популярных библиотек:\n",
    " - <a href=\"http://numpy.org\">Numpy</a> - это один из основных пакетов для математических вычислений. Он содержит средства для работы с многомерными массивами и высокоуровневыми математическими функциями\n",
    " - <a href=\"https://www.scipy.org/\">SciPy</a> - научные вычисления. Методы оптимизации, интегрирования, модули обработки сигналов и изображений, статистика, линейная алгебра, сплайны, кластеризация и многое другое\n",
    " -  <a href=\"http://pandas.pydata.org/\">Pandas</a> - основная библиотека для обработки и анализа данных. Предназначена для данных разной природы - матричных, панельных данных, временных рядов. Претендует на звание самого мощного и гибкого средства для анализа данных с открытым исходным кодом\n",
    " - <a href=\"http://scikit-learn.org/stable/\">Scikit-learn</a> - реализация очень многих методов машинного обучения с отличной документацией. \n",
    " - <a href=\"http://http://matplotlib.org/\">matplotlib</a> - хорошая библиотека для визуализации данных"
   ]
  },
  {
   "cell_type": "code",
   "execution_count": null,
   "metadata": {},
   "outputs": [],
   "source": []
  },
  {
   "cell_type": "code",
   "execution_count": null,
   "metadata": {},
   "outputs": [],
   "source": []
  },
  {
   "cell_type": "markdown",
   "metadata": {},
   "source": [
    "# 3. Задачки"
   ]
  },
  {
   "cell_type": "markdown",
   "metadata": {},
   "source": [
    "## Задача 1\n",
    "$N$ хоббитов делят $K$ кусков эльфийского хлеба поровну, не делящийся нацело остаток остается в корзинке у Сэма. Напишите функцию, которая принимает на вход параметры $N$ и $K$ и возвращает два числа: $x$ - cколько кусков эльфиского хлеба достанется каждому хоббиту, и $y$ - сколько кусков остаётся в корзинке."
   ]
  },
  {
   "cell_type": "code",
   "execution_count": 33,
   "metadata": {},
   "outputs": [
    {
     "name": "stdout",
     "output_type": "stream",
     "text": [
      "Количество хоббитов: 5\n",
      "Количество кусков хлеба: 78\n",
      "(15, 3)\n"
     ]
    }
   ],
   "source": [
    "N = int(input(\"Количество хоббитов: \"))\n",
    "K = int(input(\"Количество кусков хлеба: \"))\n",
    "def share_bread(N, K):\n",
    "    x = K // N\n",
    "    y = K % N\n",
    "    return x, y\n",
    "print(share_bread(N, K))\n",
    "assert share_bread(N=3, K=14) == (4, 2)"
   ]
  },
  {
   "cell_type": "markdown",
   "metadata": {},
   "source": [
    "## Задача 2\n",
    "\n",
    "В копях Мории хоббиты нашли стену, на которой высечены разные натуральные числа. Согласно древним сказаниям, это даты сражений. Хоббиты знают, что сражения происходили только по високосным годам. Помогите хоббитам определить, является ли год с данным числом датой великого сражения. Если это так, то верните строку \"YOU SHALL PASS\", иначе верните \"YOU SHALL NOT PASS\". Напомним, что в соответствии с хоббитским календарем, год является високосным, если его номер кратен 4, но не кратен 100, а также если он кратен 400."
   ]
  },
  {
   "cell_type": "code",
   "execution_count": 32,
   "metadata": {},
   "outputs": [
    {
     "name": "stdout",
     "output_type": "stream",
     "text": [
      "Год: 258\n",
      "YOU SHALL NOT PASS\n"
     ]
    }
   ],
   "source": [
    "year = int(input('Год: '))\n",
    "def leap_year(year):\n",
    "    if year % 400 == 0:\n",
    "        tex_result = 'YOU SHALL PASS'\n",
    "    elif year % 4 == 0 and year % 100 != 0:\n",
    "        tex_result = 'YOU SHALL PASS'\n",
    "    else:\n",
    "        tex_result = 'YOU SHALL NOT PASS'\n",
    "    return tex_result\n",
    "print(leap_year(year))\n",
    "assert leap_year(5) == 'YOU SHALL NOT PASS'"
   ]
  },
  {
   "cell_type": "markdown",
   "metadata": {},
   "source": [
    "## Задача 3\n",
    "<img src=\"http://i0.kym-cdn.com/photos/images/original/001/187/255/5e9.gif\" width=300>\n",
    "Для могущественного магического ритуала Гендальфу необходимо быстро подсчитывать площадь своего амулета, который умеет менять размеры. Известно, что амулет имеет форму треугольника и Гендальф знает длину каждой из сторон. Напишите функцию, которая считает площадь амулета по трем сторонам.  \n",
    "\n",
    "Подсказка: используйте формулу Герона\n",
    "$$ S = \\sqrt{p(p-a)(p-b)(p-c)} $$\n",
    "$$ p = \\frac{a + b + c}{2}$$\n"
   ]
  },
  {
   "cell_type": "code",
   "execution_count": 14,
   "metadata": {},
   "outputs": [
    {
     "name": "stdout",
     "output_type": "stream",
     "text": [
      "a: 5\n",
      "b: 6\n",
      "c: 7\n",
      "Площадь амулета равна 14.7\n"
     ]
    }
   ],
   "source": [
    "a = float(input('a: '))\n",
    "b = float(input('b: '))\n",
    "c = float(input('c: '))\n",
    "def amulet_area(a, b, c):\n",
    "    p = (a+b+c)*0.5\n",
    "    S = round(((p*(p-a)*(p-b)*(p-c)) ** 0.5), 2)\n",
    "    return S\n",
    "print(\"Площадь амулета равна\", (amulet_area(a,b,c)))\n",
    "assert amulet_area(3, 4, 5) == 6"
   ]
  },
  {
   "cell_type": "markdown",
   "metadata": {},
   "source": [
    "## Задача 4\n",
    "\n",
    "Хоббиты собираются пешком идти до Мордора и им нужно подсчитать расстояние, которое им предстоит пройти. Хоббиты смогли вспомнить сразу несколько метрик расстояния: евклидово, манхэттена и косинусное, так что ваша задача - напистаь функцию под каждую из них. Важное условие - используйте только базовые функции numpy для решения.\n",
    "\n",
    "\n",
    "* Евклидово расстояние\n",
    "$$ d(a, b) = \\sqrt{\\sum_i (a_i - b_i)^2} $$\n",
    "* Расстояние Манхэттена\n",
    "$$ d(a, b) = \\sum_i |a_i - b_i| $$\n",
    "* Косинусное расстояние\n",
    "$$ d(a, b) = 1 - \\frac{a^\\top b}{||a||_2\\cdot||b||_2}$$"
   ]
  },
  {
   "cell_type": "code",
   "execution_count": 2,
   "metadata": {},
   "outputs": [],
   "source": [
    "import numpy as np\n",
    "\n",
    "def cal_euclidean(a, b):    \n",
    "    sqr = np.square(a - b)\n",
    "    sqr_sum = np.sum(sqr)\n",
    "    distance = round((np.sqrt(sqr_sum)), 2)\n",
    "    return distance\n",
    "\n",
    "def cal_manhattan(a, b):\n",
    "    modul = abs(a - b)\n",
    "    distance = np.sum(modul)\n",
    "    return distance\n",
    "\n",
    "def cal_cosine(a, b):\n",
    "    ch = np.dot(a, b)\n",
    "    zn = np.linalg.norm(a) * np.linalg.norm(b)\n",
    "    distance = round(1 - np.divide(ch, zn), 4)\n",
    "    return distance"
   ]
  },
  {
   "cell_type": "code",
   "execution_count": 7,
   "metadata": {},
   "outputs": [
    {
     "name": "stdout",
     "output_type": "stream",
     "text": [
      "Евклидово расстояние: 21.05\n",
      "Расстояние Манхэттена: 55\n",
      "Косинусное расстояние: 0.9232\n"
     ]
    }
   ],
   "source": [
    "a = np.random.randint(-10, 10, size=10)\n",
    "b = np.random.randint(-10, 10, size=10)\n",
    "print('Евклидово расстояние:', cal_euclidean(a, b))\n",
    "print('Расстояние Манхэттена:', cal_manhattan(a, b))\n",
    "print('Косинусное расстояние:', cal_cosine(a, b)) # почему косинусное расстояние при других вводных больше 1?"
   ]
  },
  {
   "cell_type": "markdown",
   "metadata": {},
   "source": [
    "## Задача 5\n",
    "\n",
    "Ну и напоследок, еще немного практики numpy, без которой не обходится ни один хоббит.\n"
   ]
  },
  {
   "cell_type": "markdown",
   "metadata": {},
   "source": [
    "Создайте случайный array (`np.random.rand()`) длинной 100. Преобразуйте его так, чтобы\n",
    "* Максимальный элемент(ы) был равен 1\n",
    "* Минимальный элемент(ы) был равен 0\n",
    "* Остальные элементы в интервале от 0 до 1 остаются прежними"
   ]
  },
  {
   "cell_type": "code",
   "execution_count": 8,
   "metadata": {},
   "outputs": [
    {
     "name": "stdout",
     "output_type": "stream",
     "text": [
      "45 40\n",
      "1.0 0.0\n",
      "[0.32384728628727266, 0.5108080793930695, 0.21643550152646862, 0.583227218799448, 0.4994780524360317, 0.2196060275324524, 0.2976310906189571, 0.8749377477296509, 0.06834037630044243, 0.7190982152682605, 0.5593700869938916, 0.2414216347535797, 0.20086139866354247, 0.8804830330318615, 0.9053088612112024, 0.5248014343071857, 0.9034666556007757, 0.8818380451691633, 0.19051825895109076, 0.04212054135676935, 0.7535147529171903, 0.16903715827404975, 0.7532191572739794, 0.8445931665566991, 0.09909970157650783, 0.5483400206320076, 0.3236079268418598, 0.28464851746108644, 0.9539354308716483, 0.1488273246297257, 0.11876007289932189, 0.4922073985465195, 0.2899052055925613, 0.0808795802901845, 0.09905775964154018, 0.9179194798086046, 0.15169613287203154, 0.8351512516775834, 0.4046626563618124, 0.8028137380294683, 1, 0.9578902711421818, 0.5296092639518023, 0.8627259358016163, 0.6531540748257411, 0, 0.1466803371646319, 0.6333355713400858, 0.3977301047280265, 0.8987650692467202, 0.2840195921408145, 0.11551587661842289, 0.3075155740951979, 0.2532788197243807, 0.10027238250369763, 0.6497261311659207, 0.7876035559659229, 0.44739685988910793, 0.7033495571204442, 0.41490898503729845, 0.2258878069043927, 0.510745361188143, 0.5852953144838025, 0.3877396534772717, 0.2010887701828874, 0.35396254024028573, 0.9048897282042627, 0.4514393066275423, 0.1489398979215586, 0.15679824608806747, 0.5949457061773078, 0.7288499139262512, 0.029039155504617442, 0.1082578137814656, 0.8889974857350414, 0.3913618600646883, 0.22867955162744824, 0.641680479979792, 0.5001305983044877, 0.5974825005768867, 0.109041143520482, 0.7836689936916786, 0.3494788933708801, 0.02212633738956815, 0.6465475179256583, 0.8344608821982465, 0.6143434461407137, 0.9235025005317624, 0.12596807307896518, 0.14017736979528772, 0.4433417098893093, 0.05153649384254522, 0.3467236223829846, 0.2494226234795004, 0.2543304254032789, 0.8825574017118742, 0.9325200488056085, 0.9402387409216441, 0.3208848413352545, 0.5803687757876314]\n"
     ]
    }
   ],
   "source": [
    "my_array = np.random.rand(100)\n",
    "my_array = list(my_array)\n",
    "\n",
    "mini = np.argmin(my_array)\n",
    "maxi = np.argmax(my_array)\n",
    "my_array[mini] = 0\n",
    "my_array[maxi] = 1\n",
    "\n",
    "print(np.argmin(my_array), np.argmax(my_array))\n",
    "print(np.max(my_array), np.min(my_array))\n",
    "print(my_array)"
   ]
  },
  {
   "cell_type": "markdown",
   "metadata": {},
   "source": [
    "Создайте array размером $5 \\times 6$ с целыми числами в интервале [0,50]. Напечатайте колонку, которая содержит максимальный элемент полученной матрицы "
   ]
  },
  {
   "cell_type": "code",
   "execution_count": 16,
   "metadata": {},
   "outputs": [
    {
     "name": "stdout",
     "output_type": "stream",
     "text": [
      "[[13 42  5 47 50 17]\n",
      " [49  5 27 44 11 18]\n",
      " [39 33 14 44 45 29]\n",
      " [43 19 21  2 24 28]\n",
      " [16 36 33 39  2  6]]\n",
      "[50 11 45 24  2]\n"
     ]
    }
   ],
   "source": [
    "# Это было сложно. Может я не догадалась до кого-то простого и очевидного решения? Подскажите! Спасибо.\n",
    "\n",
    "my_array = np.random.randint(0,51, size=(5, 6)) #5 rows 6 columns\n",
    "maxi = np.argmax(my_array)\n",
    "maxi_index = np.unravel_index(maxi, [5, 6])\n",
    "selected_column = my_array[:, maxi_index[1]] # rows [0], columns [1]\n",
    "\n",
    "print(my_array)\n",
    "print(selected_column)"
   ]
  },
  {
   "cell_type": "markdown",
   "metadata": {},
   "source": [
    "Напишите функцию, которая принимает на вход матрицу (array) X и возвращает все её уникальные строки в виде новой матрицы."
   ]
  },
  {
   "cell_type": "code",
   "execution_count": 9,
   "metadata": {},
   "outputs": [],
   "source": [
    "def get_unique_rows(X):\n",
    "    X_unique = np.unique(X, axis=0) # rows [0], columns [1]\n",
    "    return X_unique"
   ]
  },
  {
   "cell_type": "code",
   "execution_count": 10,
   "metadata": {},
   "outputs": [
    {
     "name": "stdout",
     "output_type": "stream",
     "text": [
      "[[5 5 5]\n",
      " [4 5 4]\n",
      " [5 4 5]\n",
      " [4 5 5]\n",
      " [4 5 4]\n",
      " [5 4 5]\n",
      " [4 5 5]\n",
      " [4 5 5]\n",
      " [4 4 5]\n",
      " [4 5 4]]\n"
     ]
    }
   ],
   "source": [
    "X = np.random.randint(4, 6, size=(10,3)) #10 rows 3 columns\n",
    "print(X)"
   ]
  },
  {
   "cell_type": "code",
   "execution_count": 11,
   "metadata": {},
   "outputs": [
    {
     "data": {
      "text/plain": [
       "array([[4, 4, 5],\n",
       "       [4, 5, 4],\n",
       "       [4, 5, 5],\n",
       "       [5, 4, 5],\n",
       "       [5, 5, 5]])"
      ]
     },
     "execution_count": 11,
     "metadata": {},
     "output_type": "execute_result"
    }
   ],
   "source": [
    "get_unique_rows(X)"
   ]
  },
  {
   "cell_type": "code",
   "execution_count": null,
   "metadata": {},
   "outputs": [],
   "source": []
  },
  {
   "cell_type": "code",
   "execution_count": null,
   "metadata": {},
   "outputs": [],
   "source": []
  }
 ],
 "metadata": {
  "kernelspec": {
   "display_name": "Python 3 (ipykernel)",
   "language": "python",
   "name": "python3"
  },
  "language_info": {
   "codemirror_mode": {
    "name": "ipython",
    "version": 3
   },
   "file_extension": ".py",
   "mimetype": "text/x-python",
   "name": "python",
   "nbconvert_exporter": "python",
   "pygments_lexer": "ipython3",
   "version": "3.11.4"
  },
  "varInspector": {
   "cols": {
    "lenName": 16,
    "lenType": 16,
    "lenVar": 40
   },
   "kernels_config": {
    "python": {
     "delete_cmd_postfix": "",
     "delete_cmd_prefix": "del ",
     "library": "var_list.py",
     "varRefreshCmd": "print(var_dic_list())"
    },
    "r": {
     "delete_cmd_postfix": ") ",
     "delete_cmd_prefix": "rm(",
     "library": "var_list.r",
     "varRefreshCmd": "cat(var_dic_list()) "
    }
   },
   "types_to_exclude": [
    "module",
    "function",
    "builtin_function_or_method",
    "instance",
    "_Feature"
   ],
   "window_display": false
  }
 },
 "nbformat": 4,
 "nbformat_minor": 2
}
